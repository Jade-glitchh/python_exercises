{
 "cells": [
  {
   "cell_type": "code",
   "execution_count": null,
   "id": "d9fe9de9",
   "metadata": {},
   "outputs": [],
   "source": [
    "print(\"hello\")"
   ]
  },
  {
   "cell_type": "code",
   "execution_count": null,
   "id": "5c0eaff4",
   "metadata": {},
   "outputs": [
    {
     "name": "stdout",
     "output_type": "stream",
     "text": [
      " # # # # # # # # # #\n",
      " # # # # # # # #\n",
      " # # # # # #\n",
      " # # # #\n",
      " # #\n"
     ]
    }
   ],
   "source": [
    "def triangle(n):\n",
    "    for i in range(n, 0, -1 ):\n",
    "        print(i * ' #')\n",
    "\n",
    "\n",
    "triangle(10) \n"
   ]
  },
  {
   "cell_type": "code",
   "execution_count": 15,
   "id": "9b5e6dc2",
   "metadata": {},
   "outputs": [
    {
     "name": "stdout",
     "output_type": "stream",
     "text": [
      "True\n"
     ]
    }
   ],
   "source": [
    "def iseven(n):\n",
    "    if n % 2 == 0:\n",
    "        print(True)\n",
    "    else:\n",
    "        print(False)\n",
    "\n",
    "iseven(10)"
   ]
  },
  {
   "cell_type": "code",
   "execution_count": null,
   "id": "2e7350cb",
   "metadata": {},
   "outputs": [
    {
     "name": "stdout",
     "output_type": "stream",
     "text": [
      "1\n",
      "Fizz\n",
      "3\n",
      "Fizz\n",
      "5\n",
      "Fizz\n",
      "7\n",
      "Fizz\n",
      "9\n",
      "Fizz\n",
      "11\n",
      "Fizz\n",
      "13\n",
      "Fizz\n",
      "15\n",
      "Fizz\n",
      "17\n",
      "Fizz\n",
      "19\n",
      "Fizz\n",
      "21\n",
      "Fizz\n",
      "23\n",
      "Fizz\n",
      "25\n",
      "Fizz\n",
      "27\n",
      "Fizz\n",
      "29\n",
      "Fizz\n",
      "31\n",
      "Fizz\n",
      "33\n",
      "Fizz\n",
      "35\n",
      "Fizz\n",
      "37\n",
      "Fizz\n",
      "39\n",
      "Fizz\n",
      "41\n",
      "Fizz\n",
      "43\n",
      "Fizz\n",
      "45\n",
      "Fizz\n",
      "47\n",
      "Fizz\n",
      "49\n",
      "Fizz\n",
      "51\n",
      "Fizz\n",
      "53\n",
      "Fizz\n",
      "55\n",
      "Fizz\n",
      "57\n",
      "Fizz\n",
      "59\n",
      "Fizz\n",
      "61\n",
      "Fizz\n",
      "63\n",
      "Fizz\n",
      "65\n",
      "Fizz\n",
      "67\n",
      "Fizz\n",
      "69\n",
      "Fizz\n",
      "71\n",
      "Fizz\n",
      "73\n",
      "Fizz\n",
      "75\n",
      "Fizz\n",
      "77\n",
      "Fizz\n",
      "79\n",
      "Fizz\n",
      "81\n",
      "Fizz\n",
      "83\n",
      "Fizz\n",
      "85\n",
      "Fizz\n",
      "87\n",
      "Fizz\n",
      "89\n",
      "Fizz\n",
      "91\n",
      "Fizz\n",
      "93\n",
      "Fizz\n",
      "95\n",
      "Fizz\n",
      "97\n",
      "Fizz\n",
      "99\n",
      "Fizz\n"
     ]
    }
   ],
   "source": [
    "def fizz(n):\n",
    "    for i in range(n):\n",
    "        if (i + 1) % 2 == 0:\n",
    "            print(\"Fizz\")\n",
    "        else:\n",
    "            print(i + 1)\n",
    "fizz(100)\n",
    "\n",
    "1\n",
    "Fizz - 2"
   ]
  },
  {
   "cell_type": "markdown",
   "id": "dfa59fb4",
   "metadata": {},
   "source": [
    "1\n",
    "Fizz - 2\n",
    "3\n",
    "Fizz - 4\n",
    "5\n",
    "Fizz - 6\n",
    "\n"
   ]
  },
  {
   "cell_type": "code",
   "execution_count": 26,
   "id": "04e9bc20",
   "metadata": {},
   "outputs": [
    {
     "name": "stdout",
     "output_type": "stream",
     "text": [
      "Buzz 1\n",
      "Fizz 2\n",
      "Buzz 3\n",
      "Fizz 4\n",
      "Buzz 5\n",
      "Fizz 6\n",
      "Buzz 7\n",
      "Fizz 8\n",
      "Buzz 9\n",
      "Fizz 10\n",
      "Buzz 11\n",
      "Fizz 12\n",
      "Buzz 13\n",
      "Fizz 14\n",
      "Buzz 15\n",
      "Fizz 16\n",
      "Buzz 17\n",
      "Fizz 18\n",
      "Buzz 19\n",
      "Fizz 20\n"
     ]
    }
   ],
   "source": [
    "def buzz(n):\n",
    "    for i in range(n):\n",
    "        if (i + 1) % 2 != 0:\n",
    "            print(\"Buzz\", i + 1)\n",
    "        else:\n",
    "            print(\"Fizz\", i + 1)\n",
    "buzz(20)\n",
    "\n"
   ]
  },
  {
   "cell_type": "code",
   "execution_count": 48,
   "id": "166b7960",
   "metadata": {},
   "outputs": [
    {
     "name": "stdout",
     "output_type": "stream",
     "text": [
      "1\n",
      "Fizz 2\n",
      "Buzz 3\n",
      "Fizz 4\n",
      "5\n",
      "Fizz_Buzz 6\n",
      "7\n",
      "Fizz 8\n",
      "Buzz 9\n",
      "Fizz 10\n",
      "11\n",
      "Fizz_Buzz 12\n",
      "13\n",
      "Fizz 14\n",
      "Buzz 15\n",
      "Fizz 16\n",
      "17\n",
      "Fizz_Buzz 18\n",
      "19\n",
      "Fizz 20\n"
     ]
    }
   ],
   "source": [
    "def fizz_buzz(n):\n",
    "    for i in range(n):\n",
    "        if (i + 1) % 2 == 0 and (i + 1) % 3 == 0:\n",
    "            print(\"Fizz_Buzz\", i + 1)\n",
    "        elif (i + 1) % 2 == 0:\n",
    "            print(\"Fizz\", i + 1)\n",
    "        elif (i + 1) % 3 == 0:\n",
    "            print(\"Buzz\", i + 1)\n",
    "        else:\n",
    "            print(i + 1)\n",
    "        \n",
    "fizz_buzz(20)"
   ]
  }
 ],
 "metadata": {
  "kernelspec": {
   "display_name": "Python 3",
   "language": "python",
   "name": "python3"
  },
  "language_info": {
   "codemirror_mode": {
    "name": "ipython",
    "version": 3
   },
   "file_extension": ".py",
   "mimetype": "text/x-python",
   "name": "python",
   "nbconvert_exporter": "python",
   "pygments_lexer": "ipython3",
   "version": "3.13.1"
  }
 },
 "nbformat": 4,
 "nbformat_minor": 5
}
