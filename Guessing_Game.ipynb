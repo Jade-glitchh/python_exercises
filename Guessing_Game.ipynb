{
 "cells": [
  {
   "cell_type": "code",
   "execution_count": null,
   "id": "e87d6967",
   "metadata": {},
   "outputs": [],
   "source": [
    "import random as rd\n",
    "\n",
    "user_guess = 0\n",
    "count = 0\n",
    "\n",
    "while user_guess != rd and user_guess != \"exit\":\n",
    "    a = rd.randint(1, 9)\n",
    "    user_guess = int(input(\"Guess a random number: \"))\n",
    "    \n",
    "    user_guess = int(user_guess)\n",
    "    count += 1\n",
    "\n",
    "    if user_guess > a:\n",
    "        print(\"Guess too High\")\n",
    "    elif user_guess < a:\n",
    "        print(\"Guess too Low\")\n",
    "    elif user_guess == a:\n",
    "        print(\"Guess Exactly Right\")\n",
    "        print(\"You only took\", count, \"tries!\")\n",
    "        break\n",
    "    \n",
    "        \n",
    "    \n",
    "    \n",
    "    "
   ]
  },
  {
   "cell_type": "code",
   "execution_count": null,
   "id": "426dda47",
   "metadata": {},
   "outputs": [],
   "source": []
  }
 ],
 "metadata": {
  "kernelspec": {
   "display_name": "Python 3",
   "language": "python",
   "name": "python3"
  },
  "language_info": {
   "codemirror_mode": {
    "name": "ipython",
    "version": 3
   },
   "file_extension": ".py",
   "mimetype": "text/x-python",
   "name": "python",
   "nbconvert_exporter": "python",
   "pygments_lexer": "ipython3",
   "version": "3.13.1"
  }
 },
 "nbformat": 4,
 "nbformat_minor": 5
}
