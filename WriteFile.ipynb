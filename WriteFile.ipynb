{
 "cells": [
  {
   "cell_type": "code",
   "execution_count": 9,
   "id": "1bc3e09b",
   "metadata": {},
   "outputs": [],
   "source": [
    "\n",
    "\n",
    "import requests\n",
    "from bs4 import BeautifulSoup\n",
    "\n",
    "base_url = 'http://www.nytimes.com'\n",
    "r = requests.get(base_url)\n",
    "soup = BeautifulSoup(r.text)\n",
    "\n",
    "name = input(\"what is the name of the file: \")\n",
    "filename = name + \".txt\"\n",
    "\n",
    "with open(filename, 'a') as file:\n",
    "    for story_heading in soup.find_all(class_=\"story-heading\"):\n",
    "        if story_heading.a:\n",
    "            file.write(story_heading.a.text.replace(\"\\n\", \" \").strip())\n",
    "        else:\n",
    "            file.write(story_heading.content[0].strip())"
   ]
  },
  {
   "cell_type": "code",
   "execution_count": 1,
   "id": "bc9c9f94",
   "metadata": {},
   "outputs": [
    {
     "name": "stdout",
     "output_type": "stream",
     "text": [
      "File 'Test.txt' created successfully.\n"
     ]
    }
   ],
   "source": [
    "name = input(\"Enter a name: \")\n",
    "filename = name + \".txt\"\n",
    "\n",
    "try:\n",
    "    with open(filename, 'w', encoding='utf-8') as file:\n",
    "        file.write(\"Test line\\n\")\n",
    "    print(f\"File '{filename}' created successfully.\")\n",
    "except Exception as e:\n",
    "    print(\"Error creating file:\", e)"
   ]
  },
  {
   "cell_type": "code",
   "execution_count": null,
   "id": "8661708e",
   "metadata": {},
   "outputs": [],
   "source": []
  }
 ],
 "metadata": {
  "kernelspec": {
   "display_name": "Python 3",
   "language": "python",
   "name": "python3"
  },
  "language_info": {
   "codemirror_mode": {
    "name": "ipython",
    "version": 3
   },
   "file_extension": ".py",
   "mimetype": "text/x-python",
   "name": "python",
   "nbconvert_exporter": "python",
   "pygments_lexer": "ipython3",
   "version": "3.13.1"
  }
 },
 "nbformat": 4,
 "nbformat_minor": 5
}
