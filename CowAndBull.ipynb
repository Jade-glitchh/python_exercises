{
 "cells": [
  {
   "cell_type": "code",
   "execution_count": 23,
   "id": "292019b3",
   "metadata": {},
   "outputs": [
    {
     "name": "stdout",
     "output_type": "stream",
     "text": [
      "4573\n",
      "Cows: 0 Bulls: 1\n",
      "1234\n",
      "Cows: 0 Bulls: 3\n",
      "1238\n",
      "Cows: 0 Bulls: 4\n",
      "1236\n",
      "Cows: 0 Bulls: 3\n",
      "8321\n",
      "Cows: 0 Bulls: 4\n",
      "2813\n",
      "Cows: 0 Bulls: 4\n",
      "2183\n",
      "Cows: 2 Bulls: 2\n",
      "2138\n",
      "Cows: 1 Bulls: 3\n",
      "3182\n",
      "Correct, took you 8 tries\n"
     ]
    }
   ],
   "source": [
    "import random\n",
    "\n",
    "randm_num = random.sample(range(0,10), 4)\n",
    "counts = 0\n",
    "\n",
    "while True:\n",
    "    guess = input(\"Enter a 4-digit random number:\")\n",
    "    if len(guess) != 4 or  not guess.isdigit():\n",
    "        print(\"Invalid input. Please enter a 4-digit number.\")\n",
    "\n",
    "    cows = 0\n",
    "    bulls = 0\n",
    "\n",
    "    for i in range(4):\n",
    "        if int(guess[i]) == randm_num[i]:\n",
    "            cows += 1\n",
    "        elif int(guess[i]) in randm_num:\n",
    "            bulls += 1\n",
    "\n",
    "    if cows == 4:\n",
    "        print(guess)\n",
    "        print(\"Correct, took you \" + str(counts) + \" tries\")\n",
    "        break\n",
    "    else:\n",
    "        counts += 1\n",
    "        print(guess)\n",
    "        print(\"Cows: \" + str(cows) +  \" Bulls: \" + str(bulls))\n"
   ]
  }
 ],
 "metadata": {
  "kernelspec": {
   "display_name": "Python 3",
   "language": "python",
   "name": "python3"
  },
  "language_info": {
   "codemirror_mode": {
    "name": "ipython",
    "version": 3
   },
   "file_extension": ".py",
   "mimetype": "text/x-python",
   "name": "python",
   "nbconvert_exporter": "python",
   "pygments_lexer": "ipython3",
   "version": "3.13.1"
  }
 },
 "nbformat": 4,
 "nbformat_minor": 5
}
