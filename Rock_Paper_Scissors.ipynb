{
 "cells": [
  {
   "cell_type": "code",
   "execution_count": null,
   "id": "939b6256",
   "metadata": {},
   "outputs": [
    {
     "name": "stdout",
     "output_type": "stream",
     "text": [
      "Draw. Do you want to start a new game?\n",
      "Invalid input!\n"
     ]
    },
    {
     "ename": "SystemExit",
     "evalue": "",
     "output_type": "error",
     "traceback": [
      "An exception has occurred, use %tb to see the full traceback.\n",
      "\u001b[31mSystemExit\u001b[39m\n"
     ]
    },
    {
     "name": "stderr",
     "output_type": "stream",
     "text": [
      "c:\\Users\\DELL\\AppData\\Local\\Programs\\Python\\Python313\\Lib\\site-packages\\IPython\\core\\interactiveshell.py:3557: UserWarning: To exit: use 'exit', 'quit', or Ctrl-D.\n",
      "  warn(\"To exit: use 'exit', 'quit', or Ctrl-D.\", stacklevel=1)\n"
     ]
    }
   ],
   "source": [
    "player_1= input('Rock, Paper or Scissors: ')\n",
    "player_2= input('Rock, Paper or Scissors: ')\n",
    "while True:\n",
    "    if player_1 == player_2:\n",
    "        print(\"Draw. Do you want to start a new game?\")   \n",
    "    if player_1 == \"Rock\" and player_2 == \"Scissor\":\n",
    "        print(player_1 + ' won. Do you want to start a new game?')\n",
    "    elif player_1 == \"Scissors\" and player_2 == \"Paper\":\n",
    "        print(player_1 + \" won. Do you want to start a new game?\")\n",
    "    elif player_1 == \"Paper\" and player_2 == \"Rock\":\n",
    "        print(player_1 + \" won. Do you want to start a new game?\")\n",
    "    elif player_2 == \"Rock\" and player_1 == \"Scissor\":\n",
    "        print(player_2 + ' won. Do you want to start a new game?')\n",
    "    elif player_2 == \"Scissors\" and player_1 == \"Paper\":\n",
    "        print(player_2 + \" won. Do you want to start a new game?\")\n",
    "    elif player_2 == \"Paper\" and player_1 == \"Rock\":\n",
    "        print(player_2 + \" won. Do you want to start a new game?\")\n",
    "    else:\n",
    "        print(\"Invalid\")\n",
    "    break\n",
    "\n",
    "    \n",
    "        \n",
    "\n",
    "    "
   ]
  },
  {
   "cell_type": "code",
   "execution_count": null,
   "id": "4569e5b4",
   "metadata": {},
   "outputs": [],
   "source": []
  }
 ],
 "metadata": {
  "kernelspec": {
   "display_name": "Python 3",
   "language": "python",
   "name": "python3"
  },
  "language_info": {
   "codemirror_mode": {
    "name": "ipython",
    "version": 3
   },
   "file_extension": ".py",
   "mimetype": "text/x-python",
   "name": "python",
   "nbconvert_exporter": "python",
   "pygments_lexer": "ipython3",
   "version": "3.13.1"
  }
 },
 "nbformat": 4,
 "nbformat_minor": 5
}
