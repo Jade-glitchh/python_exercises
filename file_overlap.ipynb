{
 "cells": [
  {
   "cell_type": "code",
   "execution_count": null,
   "id": "157e6912",
   "metadata": {},
   "outputs": [
    {
     "name": "stdout",
     "output_type": "stream",
     "text": [
      "143\n",
      "168\n",
      "[7, 13, 19, 23, 31, 79, 97, 103, 109, 139, 167, 193, 239, 263, 293, 313, 331, 367, 379, 383, 397, 409, 487, 563, 617, 653, 673, 683, 709, 739, 761, 863, 881, 907, 937]\n"
     ]
    }
   ],
   "source": [
    "\n",
    "happylist=[]\n",
    "with open(\"C:/Users/DELL/Documents/PROJECTS/happynumbers.txt\", \"r\") as file1:\n",
    "    line = file1.readline()\n",
    "    while line:\n",
    "         happylist.append(int(line))\n",
    "         line = file1.readline()\n",
    "print(len(happylist))\n",
    "    \n",
    "primelist=[]\n",
    "with open(\"C:/Users/DELL/Documents/PROJECTS/primenumbers.txt\", \"r\") as file2:\n",
    "    line = file2.readline()\n",
    "    while line:\n",
    "         primelist.append(int(line))\n",
    "         line = file2.readline()\n",
    "print(len(primelist))\n",
    "\n",
    "overlap = []\n",
    "for elements in happylist:\n",
    "        if elements in primelist:\n",
    "            overlap.append(elements)\n",
    "\n",
    "print(overlap)"
   ]
  }
 ],
 "metadata": {
  "kernelspec": {
   "display_name": "Python 3",
   "language": "python",
   "name": "python3"
  },
  "language_info": {
   "codemirror_mode": {
    "name": "ipython",
    "version": 3
   },
   "file_extension": ".py",
   "mimetype": "text/x-python",
   "name": "python",
   "nbconvert_exporter": "python",
   "pygments_lexer": "ipython3",
   "version": "3.13.1"
  }
 },
 "nbformat": 4,
 "nbformat_minor": 5
}
