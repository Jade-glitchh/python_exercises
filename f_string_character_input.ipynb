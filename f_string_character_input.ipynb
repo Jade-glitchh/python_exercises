{
 "cells": [
  {
   "cell_type": "code",
   "execution_count": 2,
   "id": "8481f340",
   "metadata": {},
   "outputs": [
    {
     "name": "stdout",
     "output_type": "stream",
     "text": [
      "Your name is Jade\n",
      "You will be 100 years old in 2101\n"
     ]
    }
   ],
   "source": [
    "name = input(\"What's your name? : \")\n",
    "print(f\"Your name is {name}\")\n",
    "age = int(input(\"How old are you? : \"))\n",
    "print(f\"You will be {100} years old in {2125 - age}\") "
   ]
  }
 ],
 "metadata": {
  "kernelspec": {
   "display_name": "Python 3",
   "language": "python",
   "name": "python3"
  },
  "language_info": {
   "codemirror_mode": {
    "name": "ipython",
    "version": 3
   },
   "file_extension": ".py",
   "mimetype": "text/x-python",
   "name": "python",
   "nbconvert_exporter": "python",
   "pygments_lexer": "ipython3",
   "version": "3.13.1"
  }
 },
 "nbformat": 4,
 "nbformat_minor": 5
}
