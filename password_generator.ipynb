{
 "cells": [
  {
   "cell_type": "code",
   "execution_count": 1,
   "id": "cd2e44a9",
   "metadata": {},
   "outputs": [
    {
     "data": {
      "text/plain": [
       "'H$8p7Z'"
      ]
     },
     "execution_count": 1,
     "metadata": {},
     "output_type": "execute_result"
    }
   ],
   "source": [
    "import string\n",
    "import random\n",
    "\n",
    "def generate_password(strength):\n",
    "    if strength == \"weak\":\n",
    "        characters = string.ascii_lowercase\n",
    "    elif strength == \"medium\":\n",
    "        characters = string.ascii_letters + string.digits\n",
    "    elif strength == \"strong\":\n",
    "        characters = string.ascii_letters + string.digits + string.punctuation\n",
    "    else:\n",
    "        print(\"Invalid\")\n",
    "    password = ''.join(random.choice(characters) for _ in strength)\n",
    "    return password\n",
    "\n",
    "generate_password(\"strong\")\n"
   ]
  }
 ],
 "metadata": {
  "kernelspec": {
   "display_name": "Python 3",
   "language": "python",
   "name": "python3"
  },
  "language_info": {
   "codemirror_mode": {
    "name": "ipython",
    "version": 3
   },
   "file_extension": ".py",
   "mimetype": "text/x-python",
   "name": "python",
   "nbconvert_exporter": "python",
   "pygments_lexer": "ipython3",
   "version": "3.13.1"
  }
 },
 "nbformat": 4,
 "nbformat_minor": 5
}
