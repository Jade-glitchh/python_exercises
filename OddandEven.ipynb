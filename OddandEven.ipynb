{
 "cells": [
  {
   "cell_type": "code",
   "execution_count": 7,
   "id": "a945077d",
   "metadata": {},
   "outputs": [
    {
     "name": "stdout",
     "output_type": "stream",
     "text": [
      "20 is a multiple of 4.\n"
     ]
    }
   ],
   "source": [
    "def number(n):\n",
    "        if n % 4 ==0:\n",
    "            print(str(n) + \" is a multiple of 4.\")\n",
    "        elif n % 2 == 0:\n",
    "            print(str(n) + \" is an Even number.\")\n",
    "        elif n % 2 != 0:\n",
    "            print(str(n) + \" is an Odd number.\")\n",
    "number(20)"
   ]
  },
  {
   "cell_type": "code",
   "execution_count": null,
   "id": "bda27d13",
   "metadata": {},
   "outputs": [],
   "source": []
  }
 ],
 "metadata": {
  "kernelspec": {
   "display_name": "Python 3",
   "language": "python",
   "name": "python3"
  },
  "language_info": {
   "codemirror_mode": {
    "name": "ipython",
    "version": 3
   },
   "file_extension": ".py",
   "mimetype": "text/x-python",
   "name": "python",
   "nbconvert_exporter": "python",
   "pygments_lexer": "ipython3",
   "version": "3.13.1"
  }
 },
 "nbformat": 4,
 "nbformat_minor": 5
}
