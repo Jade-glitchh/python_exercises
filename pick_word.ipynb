{
 "cells": [
  {
   "cell_type": "code",
   "execution_count": 1,
   "id": "31431031",
   "metadata": {},
   "outputs": [
    {
     "name": "stdout",
     "output_type": "stream",
     "text": [
      "WORKFORCES\n"
     ]
    }
   ],
   "source": [
    "import random as rd\n",
    "\n",
    "file_path = 'C:/Users/DELL/Documents/PROJECTS/sowpods.txt'\n",
    "\n",
    "def pick_word(file_path):\n",
    "    with open(file_path, 'r') as file:\n",
    "        line = file.readlines()\n",
    "        random_word = rd.choice(line).strip()\n",
    "        print(random_word)\n",
    "\n",
    "pick_word(file_path)\n"
   ]
  }
 ],
 "metadata": {
  "kernelspec": {
   "display_name": "Python 3",
   "language": "python",
   "name": "python3"
  },
  "language_info": {
   "codemirror_mode": {
    "name": "ipython",
    "version": 3
   },
   "file_extension": ".py",
   "mimetype": "text/x-python",
   "name": "python",
   "nbconvert_exporter": "python",
   "pygments_lexer": "ipython3",
   "version": "3.13.1"
  }
 },
 "nbformat": 4,
 "nbformat_minor": 5
}
