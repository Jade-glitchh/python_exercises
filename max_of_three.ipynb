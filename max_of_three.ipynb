{
 "cells": [
  {
   "cell_type": "code",
   "execution_count": 10,
   "id": "b3f3798d",
   "metadata": {},
   "outputs": [
    {
     "name": "stdout",
     "output_type": "stream",
     "text": [
      "100\n"
     ]
    }
   ],
   "source": [
    "def variable(n1, n2, n3):\n",
    "    if n1 > n2 and n1 > n3:\n",
    "        print(n1)\n",
    "    elif n2 > n3 and n2 > n1:\n",
    "        print(n2)\n",
    "    elif n3 > n1 and n3 > n2:\n",
    "        print(n3)\n",
    "\n",
    "variable(50, 100, 5)"
   ]
  }
 ],
 "metadata": {
  "kernelspec": {
   "display_name": "Python 3",
   "language": "python",
   "name": "python3"
  },
  "language_info": {
   "codemirror_mode": {
    "name": "ipython",
    "version": 3
   },
   "file_extension": ".py",
   "mimetype": "text/x-python",
   "name": "python",
   "nbconvert_exporter": "python",
   "pygments_lexer": "ipython3",
   "version": "3.13.1"
  }
 },
 "nbformat": 4,
 "nbformat_minor": 5
}
