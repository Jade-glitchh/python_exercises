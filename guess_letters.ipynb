{
 "cells": [
  {
   "cell_type": "code",
   "execution_count": null,
   "id": "ccd1f38a",
   "metadata": {},
   "outputs": [],
   "source": [
    "print('Welcome to Hangman!')\n",
    "\n",
    "guess_word = 'LIBERAL'\n",
    "guessed = [\"-\"] * len(guess_word)\n",
    "word = list(guess_word)\n",
    "guessed = list(guessed)\n",
    "alreadyGuessed = []\n",
    "\n",
    "while True:\n",
    "    letter = input(\"guess letter:\").upper()\n",
    "    \n",
    "    if letter.upper() in alreadyGuessed:\n",
    "        print('Already guessed!')\n",
    "    \n",
    "    elif letter.upper() in word:\n",
    "        for i, char in enumerate(word):\n",
    "            if char == letter:\n",
    "                guessed[i] = letter\n",
    "                word[i] = '-'\n",
    "    else:\n",
    "        print('incorrect guess!')\n",
    "        alreadyGuessed.append(letter.upper())\n",
    "\n",
    "    print(' '.join(guessed))\n",
    "        \n",
    "    if '-' not in guessed:\n",
    "        print('You won!')\n",
    "        break\n",
    "    \n",
    "    letter = input(\"Guess another letter: \").upper()\n",
    "\n",
    "    "
   ]
  }
 ],
 "metadata": {
  "kernelspec": {
   "display_name": "Python 3",
   "language": "python",
   "name": "python3"
  },
  "language_info": {
   "codemirror_mode": {
    "name": "ipython",
    "version": 3
   },
   "file_extension": ".py",
   "mimetype": "text/x-python",
   "name": "python",
   "nbconvert_exporter": "python",
   "pygments_lexer": "ipython3",
   "version": "3.13.1"
  }
 },
 "nbformat": 4,
 "nbformat_minor": 5
}
