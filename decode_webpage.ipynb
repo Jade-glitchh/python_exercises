{
 "cells": [
  {
   "cell_type": "code",
   "execution_count": null,
   "id": "976e354a",
   "metadata": {},
   "outputs": [
    {
     "name": "stdout",
     "output_type": "stream",
     "text": [
      "['Live', 'Top Stories', 'The AthleticSports coverage', 'Well', 'Culture and Lifestyle', 'AudioPodcasts and narrated articles', 'GamesDaily puzzles', 'Site Index', 'Site Information Navigation']\n"
     ]
    }
   ],
   "source": [
    "import requests\n",
    "import warnings\n",
    "from bs4 import BeautifulSoup\n",
    "\n",
    "\n",
    "warnings.filterwarnings(\"ignore\")\n",
    "\n",
    "url = \"https://www.nytimes.com\"\n",
    "response = requests.get(url)\n",
    "\n",
    "soup = BeautifulSoup(response.text, 'html.parser')\n",
    "titles = soup.find_all('h2')\n",
    "title_list = []\n",
    "for tag in titles:\n",
    "    title_list.append(tag.text)\n",
    "print(title_list)"
   ]
  }
 ],
 "metadata": {
  "kernelspec": {
   "display_name": "Python 3",
   "language": "python",
   "name": "python3"
  },
  "language_info": {
   "codemirror_mode": {
    "name": "ipython",
    "version": 3
   },
   "file_extension": ".py",
   "mimetype": "text/x-python",
   "name": "python",
   "nbconvert_exporter": "python",
   "pygments_lexer": "ipython3",
   "version": "3.13.1"
  }
 },
 "nbformat": 4,
 "nbformat_minor": 5
}
