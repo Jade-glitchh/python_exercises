{
 "cells": [
  {
   "cell_type": "code",
   "execution_count": 1,
   "id": "e557170d",
   "metadata": {},
   "outputs": [
    {
     "name": "stdout",
     "output_type": "stream",
     "text": [
      "You needed 6 guesses to guess the number 1\n"
     ]
    }
   ],
   "source": [
    "import random\n",
    "\n",
    "number = random.randint(1, 9)\n",
    "number_of_guesses = 0\n",
    "while True:\n",
    "\twhile True:\n",
    "\t\ttry:\n",
    "\t\t\tguess = int(input(\"Guess a number between 1 and 9: \"))\n",
    "\t\t\tif guess >= 1 and guess <= 9:\n",
    "\t\t\t\tbreak\n",
    "\t\t\telse:\n",
    "\t\t\t\tprint(\"Your input must be a number between 1 and 9 inclusive\")\n",
    "\t\texcept ValueError:\n",
    "\t\t\tprint(\"You must enter a number\")\n",
    "\tnumber_of_guesses += 1\n",
    "\tif guess == number:\n",
    "\t\tbreak\n",
    "print(f\"You needed {number_of_guesses} guesses to guess the number {number}\")\n",
    "\t\t"
   ]
  }
 ],
 "metadata": {
  "kernelspec": {
   "display_name": "Python 3",
   "language": "python",
   "name": "python3"
  },
  "language_info": {
   "codemirror_mode": {
    "name": "ipython",
    "version": 3
   },
   "file_extension": ".py",
   "mimetype": "text/x-python",
   "name": "python",
   "nbconvert_exporter": "python",
   "pygments_lexer": "ipython3",
   "version": "3.13.1"
  }
 },
 "nbformat": 4,
 "nbformat_minor": 5
}
