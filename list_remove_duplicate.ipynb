{
 "cells": [
  {
   "cell_type": "code",
   "execution_count": null,
   "id": "44ab52d8",
   "metadata": {},
   "outputs": [
    {
     "name": "stdout",
     "output_type": "stream",
     "text": [
      "[1, 2, 13, 21]\n"
     ]
    }
   ],
   "source": [
    " # Using Loop\n",
    "\n",
    "a = [1, 1, 2, 2, 13, 21 ]\n",
    "b = []\n",
    "def new_list():\n",
    "    for num in a:\n",
    "        if num not in b:\n",
    "            b.append(num)\n",
    "    print(b)\n",
    "new_list()\n"
   ]
  },
  {
   "cell_type": "code",
   "execution_count": null,
   "id": "58f817e7",
   "metadata": {},
   "outputs": [
    {
     "name": "stdout",
     "output_type": "stream",
     "text": [
      "[1, 2, 21, 13]\n"
     ]
    }
   ],
   "source": [
    "# Using Set\n",
    "\n",
    "a = [1, 1, 2, 2, 13, 21 ]\n",
    "b = []\n",
    "def new_list():\n",
    "    for num in set(a):\n",
    "        if num not in b:\n",
    "            b.append(num)\n",
    "    print(b)\n",
    "new_list()"
   ]
  }
 ],
 "metadata": {
  "kernelspec": {
   "display_name": "Python 3",
   "language": "python",
   "name": "python3"
  },
  "language_info": {
   "codemirror_mode": {
    "name": "ipython",
    "version": 3
   },
   "file_extension": ".py",
   "mimetype": "text/x-python",
   "name": "python",
   "nbconvert_exporter": "python",
   "pygments_lexer": "ipython3",
   "version": "3.13.1"
  }
 },
 "nbformat": 4,
 "nbformat_minor": 5
}
