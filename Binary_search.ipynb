{
 "cells": [
  {
   "cell_type": "code",
   "execution_count": 19,
   "id": "574dd67c",
   "metadata": {},
   "outputs": [
    {
     "data": {
      "text/plain": [
       "True"
      ]
     },
     "execution_count": 19,
     "metadata": {},
     "output_type": "execute_result"
    }
   ],
   "source": [
    "def contain(list,n):\n",
    "    if n in list:\n",
    "        return True\n",
    "    else:\n",
    "        return False\n",
    "contain([1,2,3], 2)"
   ]
  },
  {
   "cell_type": "markdown",
   "id": "acdf95a6",
   "metadata": {},
   "source": [
    "Look at the middle element in the list - it is ‘30’. * ‘9 < 30’, so let us ignore the elements to the right of ‘30’.\n",
    "The new list we are looking at is now [1, 3, 5].\n",
    "Look at the middle element in this new list - it is 3.\n",
    "‘9 > 3’, so ignore the elements to the left of 3.\n",
    "The new list we are looking at is [5].\n",
    "The list has one element and it is not 9.\n",
    "9 is not in the list."
   ]
  },
  {
   "cell_type": "code",
   "execution_count": null,
   "id": "970ff6ce",
   "metadata": {},
   "outputs": [],
   "source": [
    "def contain(list, n):\n",
    "    if n < "
   ]
  }
 ],
 "metadata": {
  "kernelspec": {
   "display_name": "Python 3",
   "language": "python",
   "name": "python3"
  },
  "language_info": {
   "codemirror_mode": {
    "name": "ipython",
    "version": 3
   },
   "file_extension": ".py",
   "mimetype": "text/x-python",
   "name": "python",
   "nbconvert_exporter": "python",
   "pygments_lexer": "ipython3",
   "version": "3.13.1"
  }
 },
 "nbformat": 4,
 "nbformat_minor": 5
}
